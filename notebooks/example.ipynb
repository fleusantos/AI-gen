{
 "cells": [
  {
   "cell_type": "code",
   "execution_count": 1,
   "metadata": {},
   "outputs": [],
   "source": [
    "from dotenv import load_dotenv\n",
    "from langchain.llms import OpenAI\n",
    "from langchain.chains import LLMChain, SimpleSequentialChain\n",
    "from ecrivai.prompt_templates import content_prompt, topic_prompt"
   ]
  },
  {
   "cell_type": "code",
   "execution_count": 2,
   "metadata": {},
   "outputs": [
    {
     "data": {
      "text/plain": [
       "True"
      ]
     },
     "execution_count": 2,
     "metadata": {},
     "output_type": "execute_result"
    }
   ],
   "source": [
    "load_dotenv()"
   ]
  },
  {
   "cell_type": "code",
   "execution_count": 3,
   "metadata": {},
   "outputs": [],
   "source": [
    "# set up some parameters of the LLM\n",
    "content_llm_kwargs = {\n",
    "    \"temperature\": 0.7,\n",
    "    \"model_name\": \"text-davinci-003\",\n",
    "    \"max_tokens\": 1500 # ~ 1125 words\n",
    "}\n",
    "\n",
    "brief_llm_kwargs = {\n",
    "    \"temperature\": 0.7,\n",
    "    \"model_name\": \"text-davinci-003\",\n",
    "    \"max_tokens\": 50 # ~ 38words\n",
    "}"
   ]
  },
  {
   "cell_type": "code",
   "execution_count": 4,
   "metadata": {},
   "outputs": [],
   "source": [
    "# create LLMs with kwargs specified above\n",
    "content_llm = OpenAI(**content_llm_kwargs)\n",
    "brief_llm = OpenAI(**brief_llm_kwargs)"
   ]
  },
  {
   "cell_type": "code",
   "execution_count": 5,
   "metadata": {},
   "outputs": [],
   "source": [
    "# chain it all together\n",
    "topic_chain = LLMChain(llm=brief_llm, prompt=topic_prompt)\n",
    "content_chain = LLMChain(llm=content_llm, prompt=content_prompt)\n",
    "\n",
    "chain = SimpleSequentialChain(\n",
    "    chains=[\n",
    "        topic_chain,\n",
    "        content_chain\n",
    "    ],\n",
    "    verbose=True\n",
    ")"
   ]
  },
  {
   "cell_type": "code",
   "execution_count": 6,
   "metadata": {},
   "outputs": [
    {
     "ename": "ValueError",
     "evalue": "`run` supported with either positional arguments or keyword arguments but not both. Got args: ('',) and kwargs: {'verbose': True}.",
     "output_type": "error",
     "traceback": [
      "\u001b[1;31m---------------------------------------------------------------------------\u001b[0m",
      "\u001b[1;31mValueError\u001b[0m                                Traceback (most recent call last)",
      "Cell \u001b[1;32mIn[6], line 1\u001b[0m\n\u001b[1;32m----> 1\u001b[0m blog_text \u001b[39m=\u001b[39m chain\u001b[39m.\u001b[39;49mrun(\u001b[39m\"\u001b[39;49m\u001b[39m\"\u001b[39;49m, verbose\u001b[39m=\u001b[39;49m\u001b[39mTrue\u001b[39;49;00m)\n",
      "File \u001b[1;32mc:\\Users\\preto\\anaconda3\\envs\\ecrivai\\lib\\site-packages\\langchain\\chains\\base.py:218\u001b[0m, in \u001b[0;36mChain.run\u001b[1;34m(self, *args, **kwargs)\u001b[0m\n\u001b[0;32m    215\u001b[0m \u001b[39mif\u001b[39;00m kwargs \u001b[39mand\u001b[39;00m \u001b[39mnot\u001b[39;00m args:\n\u001b[0;32m    216\u001b[0m     \u001b[39mreturn\u001b[39;00m \u001b[39mself\u001b[39m(kwargs)[\u001b[39mself\u001b[39m\u001b[39m.\u001b[39moutput_keys[\u001b[39m0\u001b[39m]]\n\u001b[1;32m--> 218\u001b[0m \u001b[39mraise\u001b[39;00m \u001b[39mValueError\u001b[39;00m(\n\u001b[0;32m    219\u001b[0m     \u001b[39mf\u001b[39m\u001b[39m\"\u001b[39m\u001b[39m`run` supported with either positional arguments or keyword arguments\u001b[39m\u001b[39m\"\u001b[39m\n\u001b[0;32m    220\u001b[0m     \u001b[39mf\u001b[39m\u001b[39m\"\u001b[39m\u001b[39m but not both. Got args: \u001b[39m\u001b[39m{\u001b[39;00margs\u001b[39m}\u001b[39;00m\u001b[39m and kwargs: \u001b[39m\u001b[39m{\u001b[39;00mkwargs\u001b[39m}\u001b[39;00m\u001b[39m.\u001b[39m\u001b[39m\"\u001b[39m\n\u001b[0;32m    221\u001b[0m )\n",
      "\u001b[1;31mValueError\u001b[0m: `run` supported with either positional arguments or keyword arguments but not both. Got args: ('',) and kwargs: {'verbose': True}."
     ]
    }
   ],
   "source": [
    "blog_text = chain.run(\"\")"
   ]
  },
  {
   "cell_type": "code",
   "execution_count": null,
   "metadata": {},
   "outputs": [
    {
     "name": "stdout",
     "output_type": "stream",
     "text": [
      "\n",
      "\n",
      "# Health Benefits of Fasting: How Intermittent Fasting Can Improve Your Health\n",
      "\n",
      "Fasting has been practiced for centuries for both religious and health reasons. In recent years, fasting has gained popularity as a way to improve physical, mental, and spiritual health. In this blog post, we'll look at the health benefits of fasting and examine how intermittent fasting, an increasingly popular fasting method, can improve your health.\n",
      "\n",
      "## What Is Fasting? \n",
      "\n",
      "Fasting is the practice of abstaining from food or drink for a period of time. It has been used for centuries as a spiritual or religious ritual, but it can also be used for health and wellness. There are many different types of fasting, such as water fasting, intermittent fasting, and alternate-day fasting.\n",
      "\n",
      "## What Are the Health Benefits of Fasting?\n",
      "\n",
      "Fasting has a variety of health benefits, including:\n",
      "\n",
      "- Improved digestion: Fasting gives the digestive system a break, allowing it to rest and repair itself. This can result in improved digestion and absorption of nutrients.\n",
      "\n",
      "- Weight loss: Fasting can help you lose weight by reducing calories and increasing fat burning.\n",
      "\n",
      "- Reduced inflammation: Fasting can reduce inflammation in the body, which can help reduce the risk of chronic diseases such as heart disease and Type 2 diabetes.\n",
      "\n",
      "- Improved mental clarity: Fasting can improve focus and mental clarity by reducing stress and improving sleep.\n",
      "\n",
      "- Improved physical performance: Fasting can help improve physical performance by increasing energy levels and reducing fatigue.\n",
      "\n",
      "- Reduced risk of chronic diseases: Fasting can reduce the risk of chronic diseases such as heart disease, stroke, and diabetes.\n",
      "\n",
      "## What Is Intermittent Fasting?\n",
      "\n",
      "Intermittent fasting is a popular type of fasting that involves alternating periods of eating and fasting. This type of fasting is often done on a daily or weekly basis, such as eating within an 8-hour window and fasting for the remaining 16 hours. Intermittent fasting has been shown to be effective for weight loss and has been linked to a variety of health benefits, such as improved digestion, reduced inflammation, improved mental clarity, and improved physical performance.\n",
      "\n",
      "## How to Get Started With Intermittent Fasting\n",
      "\n",
      "If you're interested in trying intermittent fasting, there are a few things you should keep in mind before getting started:\n",
      "\n",
      "- Talk to your doctor: Before starting any type of fasting, it's important to talk to your doctor to make sure it's safe for you.\n",
      "\n",
      "- Start slow: It's best to start slow and gradually increase the fasting periods, rather than jumping right into a 16-hour fast.\n",
      "\n",
      "- Listen to your body: Fasting is not a one-size-fits-all approach. Everyone's body responds differently, so it's important to listen to your body and adjust your fasting schedule accordingly.\n",
      "\n",
      "- Stay hydrated: It's important to stay hydrated while fasting, so make sure to drink plenty of water throughout the day.\n",
      "\n",
      "## Conclusion\n",
      "\n",
      "Fasting has a variety of health benefits, including improved digestion, weight loss, reduced inflammation, improved mental clarity, and improved physical performance. Intermittent fasting, an increasingly popular type of fasting, is an effective way to reap these benefits. However, it's important to talk to your doctor before starting any type of fasting and to listen to your body throughout the process. With the proper precautions and guidance, intermittent fasting can help you improve your health and wellbeing.\n"
     ]
    }
   ],
   "source": [
    "print(blog_text)"
   ]
  }
 ],
 "metadata": {
  "kernelspec": {
   "display_name": "langchain",
   "language": "python",
   "name": "python3"
  },
  "language_info": {
   "codemirror_mode": {
    "name": "ipython",
    "version": 3
   },
   "file_extension": ".py",
   "mimetype": "text/x-python",
   "name": "python",
   "nbconvert_exporter": "python",
   "pygments_lexer": "ipython3",
   "version": "3.9.16"
  },
  "orig_nbformat": 4
 },
 "nbformat": 4,
 "nbformat_minor": 2
}
