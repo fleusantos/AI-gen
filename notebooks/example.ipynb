{
 "cells": [
  {
   "cell_type": "code",
   "execution_count": 16,
   "metadata": {},
   "outputs": [],
   "source": [
    "from dotenv import load_dotenv\n",
    "from langchain.llms import OpenAI\n",
    "from langchain.chains import LLMChain, SimpleSequentialChain\n",
    "from ecrivai.prompt_templates import content_prompt, topic_prompt\n",
    "from ecrivai.write import to_markdown"
   ]
  },
  {
   "cell_type": "code",
   "execution_count": 2,
   "metadata": {},
   "outputs": [
    {
     "data": {
      "text/plain": [
       "True"
      ]
     },
     "execution_count": 2,
     "metadata": {},
     "output_type": "execute_result"
    }
   ],
   "source": [
    "load_dotenv()"
   ]
  },
  {
   "cell_type": "code",
   "execution_count": 3,
   "metadata": {},
   "outputs": [],
   "source": [
    "# set up some parameters of the LLM\n",
    "content_llm_kwargs = {\n",
    "    \"temperature\": 0.7,\n",
    "    \"model_name\": \"text-davinci-003\",\n",
    "    \"max_tokens\": 1500 # ~ 1125 words\n",
    "}\n",
    "\n",
    "brief_llm_kwargs = {\n",
    "    \"temperature\": 0.7,\n",
    "    \"model_name\": \"text-davinci-003\",\n",
    "    \"max_tokens\": 50 # ~ 38words\n",
    "}"
   ]
  },
  {
   "cell_type": "code",
   "execution_count": 4,
   "metadata": {},
   "outputs": [],
   "source": [
    "# create LLMs with kwargs specified above\n",
    "content_llm = OpenAI(**content_llm_kwargs)\n",
    "brief_llm = OpenAI(**brief_llm_kwargs)"
   ]
  },
  {
   "cell_type": "code",
   "execution_count": 5,
   "metadata": {},
   "outputs": [],
   "source": [
    "# chain it all together\n",
    "topic_chain = LLMChain(llm=brief_llm, prompt=topic_prompt)\n",
    "content_chain = LLMChain(llm=content_llm, prompt=content_prompt)\n",
    "\n",
    "chain = SimpleSequentialChain(\n",
    "    chains=[\n",
    "        topic_chain,\n",
    "        content_chain\n",
    "    ],\n",
    "    verbose=True\n",
    ")"
   ]
  },
  {
   "cell_type": "code",
   "execution_count": 6,
   "metadata": {},
   "outputs": [
    {
     "name": "stdout",
     "output_type": "stream",
     "text": [
      "\n",
      "\n",
      "\u001b[1m> Entering new SimpleSequentialChain chain...\u001b[0m\n",
      "\u001b[36;1m\u001b[1;3m\n",
      "Mental Health Awareness.\u001b[0m\n",
      "\u001b[33;1m\u001b[1;3m\n",
      "\n",
      "## Mental Health Awareness Is Essential For Everyone \n",
      "\n",
      "Mental health is an important aspect of our lives that is often overlooked or ignored. Mental health awareness is essential for everyone, regardless of age, gender, or background. Mental illness can affect anyone at any time and can have a significant impact on a person’s quality of life. Mental health awareness is key to understanding mental illness, its symptoms, and how to take steps to seek help and support. \n",
      "\n",
      "### What is Mental Health Awareness?\n",
      "\n",
      "Mental health awareness is the process of understanding and recognizing the signs and symptoms of mental illness. It is also the process of understanding how to seek help and support from professionals, family members, and friends. Mental health awareness can help reduce the stigma associated with mental illness and empower people to speak up and seek help. Mental health awareness can also help people recognize when they or someone they care about may be experiencing mental health issues. \n",
      "\n",
      "### Why is Mental Health Awareness Important?\n",
      "\n",
      "Mental health awareness is essential for everyone because mental illness can affect anyone at any time. Mental illness can have a significant negative impact on a person’s life and can lead to a wide range of physical, emotional, and cognitive health issues. Mental health awareness is important because it can help people recognize the signs and symptoms of mental illness, which can lead to early intervention and treatment. It can also help reduce the stigma associated with mental illness and create a more supportive environment for those who are affected by mental health issues. \n",
      "\n",
      "### How Can We Increase Mental Health Awareness?\n",
      "\n",
      "The best way to increase mental health awareness is to educate ourselves and the people around us. We can start by learning about mental health and the different types of mental illness. We can also talk to our family, friends, and colleagues about mental health and teach them how to recognize the signs and symptoms of mental illness. We can also support organizations that work to reduce the stigma associated with mental illness and provide resources to those affected. \n",
      "\n",
      "### What Action Can We Take?\n",
      "\n",
      "The best way to take action is to be aware of our own mental health and to seek help if we are experiencing any symptoms of mental illness. If we know someone who is struggling, we should reach out and offer support. We can also spread awareness by sharing information about mental health on social media, participating in mental health awareness events, and donating to organizations that are working to reduce the stigma associated with mental illness. \n",
      "\n",
      "### Conclusion\n",
      "\n",
      "Mental health awareness is an essential part of our lives and it is important for everyone to be aware of the signs and symptoms of mental illness. Mental health awareness can help reduce the stigma associated with mental illness and empower people to seek help and support. We can increase mental health awareness by educating ourselves and the people around us, talking openly about mental health, and taking action to support those affected by mental illness. \u001b[0m\n",
      "\n",
      "\u001b[1m> Finished chain.\u001b[0m\n"
     ]
    }
   ],
   "source": [
    "blog_text = chain.run(\"\")"
   ]
  },
  {
   "cell_type": "code",
   "execution_count": 18,
   "metadata": {},
   "outputs": [],
   "source": [
    "to_markdown(blog_text, out_dir=\"../content/\")"
   ]
  }
 ],
 "metadata": {
  "kernelspec": {
   "display_name": "langchain",
   "language": "python",
   "name": "python3"
  },
  "language_info": {
   "codemirror_mode": {
    "name": "ipython",
    "version": 3
   },
   "file_extension": ".py",
   "mimetype": "text/x-python",
   "name": "python",
   "nbconvert_exporter": "python",
   "pygments_lexer": "ipython3",
   "version": "3.9.16"
  },
  "orig_nbformat": 4
 },
 "nbformat": 4,
 "nbformat_minor": 2
}
